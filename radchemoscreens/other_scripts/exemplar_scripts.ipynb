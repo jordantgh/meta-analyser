{
  "cells": [
    {
      "cell_type": "raw",
      "metadata": {},
      "source": [
        "---\n",
        "title: \"Untitled\"\n",
        "format: html\n",
        "---"
      ],
      "id": "6e75038e"
    },
    {
      "cell_type": "markdown",
      "metadata": {},
      "source": [
        "|    | Unnamed: 0   | Unnamed: 1                                       | Day 4 (Early)     | Unnamed: 3   | Unnamed: 4   | Day 12 (Intermediate)   | Unnamed: 6   | Unnamed: 7   | Day 18 (Late)     | Unnamed: 9   | Unnamed: 10   |\n",
        "|---:|:-------------|:-------------------------------------------------|:------------------|:-------------|:-------------|:------------------------|:-------------|:-------------|:------------------|:-------------|:--------------|\n",
        "|  0 | Gene         | Description                                      | Etop.Score        | FDR          | Etoposide    | Etop.Score              | FDR          | Etoposide    | Etop.Score        | FDR          | Etoposide     |\n",
        "|  1 | ABCC1        | ATP binding cassette subfamily C member 1        | -12.0873475832922 | 0.001238     | Resistance   | -12.237081477992        | 0.00099      | Resistance   | -7.08701315330034 | 0.001238     | Resistance    |\n",
        "|  2 | NHEJ1        | non-homologous end joining factor 1              | -11.6082535558549 | 0.001238     | Resistance   | -7.67964596718233       | 0.00099      | Resistance   | nan               | nan          | nan           |\n",
        "|  3 | RAD54L2      | DNA repair and recombination protein RAD54-like2 | -6.97947298772544 | 0.001238     | Resistance   | -9.39989874430861       | 0.00099      | Resistance   | -6.83445892327763 | 0.001238     | Resistance    |\n",
        "|  4 | ZNF451       | zinc finger protein 451                          | -10.0497422718239 | 0.001238     | Resistance   | -4.77598518862714       | 0.05243      | Resistance   | -7.57935125458344 | 0.001238     | Resistance    |\n",
        "\n",
        "I would like to have the data frame in nguyenGenomewideCRISPRCas92022_36111891_BLOODA_ADV-2022-007934-mmc1_Supplemental Table S1_t1.csv in tidy format. It was originally an excel sheet where it was a crosstab, so some of the formatting is missing. For example, the \"early\", \"intermediate\" and \"late\" cells were merged originally above the  \"| Etop.Score        | FDR          | Etoposide    | \" columns. In reality, the timepoint is an experimental perturbation and different timepoints are different observations, so timepoint should be considered as its own column in tidy format. Remember this only applies to experimental perturbations; metrics can stay as their own columns. You can use pandas melt.\n",
        "\n",
        "Here is some inspiration:\n"
      ],
      "id": "d226f52b"
    },
    {
      "cell_type": "code",
      "metadata": {},
      "source": [
        "file_path = 'output_tables/nguyenGenomewideCRISPRCas92022_36111891_BLOODA_ADV-2022-007934-mmc1_Supplemental Table S1_t1.csv'\n",
        "df = pd.read_csv(file_path)\n",
        "\n",
        "# Dropping the first row (which contains redundant information)\n",
        "df = df.drop(0).reset_index(drop=True)\n",
        "\n",
        "# Melting DataFrame for the three time points\n",
        "time_points = [\"Day 4 (Early)\", \"Day 12 (Intermediate)\", \"Day 18 (Late)\"]\n",
        "tidy_df = pd.DataFrame()\n",
        "for i, time_point in enumerate(time_points):\n",
        "    sub_df = df[[\"Unnamed: 0\", \"Unnamed: 1\", time_point, f\"Unnamed: {3 + i*3}\", f\"Unnamed: {4 + i*3}\"]].copy()\n",
        "    sub_df.columns = [\"Gene\", \"Description\", \"Etop.Score\", \"FDR\", \"Etoposide\"]\n",
        "    sub_df[\"Timepoint\"] = time_point\n",
        "    tidy_df = pd.concat([tidy_df, sub_df])\n",
        "\n",
        "# Reordering columns\n",
        "tidy_df = tidy_df[[\"Gene\", \"Description\", \"Timepoint\", \"Etop.Score\", \"FDR\", \"Etoposide\"]]\n",
        "\n",
        "# Resetting index\n",
        "tidy_df.reset_index(drop=True, inplace=True)\n",
        "\n",
        "# Saving the tidy DataFrame (optional)\n",
        "tidy_df.to_csv('output_tables/tidy_data.csv', index=False)\n",
        "# Sorting by the \"Gene\" column\n",
        "tidy_df = tidy_df.sort_values(by=\"Gene\").reset_index(drop=True)\n",
        "# Previewing the tidy DataFrame\n",
        "tidy_df.head()"
      ],
      "id": "c560ee0a",
      "execution_count": null,
      "outputs": []
    },
    {
      "cell_type": "markdown",
      "metadata": {},
      "source": [
        "Great! Let's first unzip the file and take a look at the contents. Once we have confirmed the file names, we'll proceed to read the specific CSV file you mentioned and apply the transformation.\n",
        "\n",
        "It looks like the file you are interested in is present in the unzipped folder. Let's proceed to read the CSV file and apply the transformation to get the data in tidy format, following the inspiration you provided.\n",
        "\n",
        "We will begin by reading the CSV file and taking a look at the first few rows to understand the structure of the data.\n",
        "\n",
        "It appears that the first row contains redundant information, as mentioned in your guidance. We can now proceed with the transformation to tidy format by following the provided code snippet. Let's start by dropping the first row and melting the DataFrame for the three time points: \"Day 4 (Early)\", \"Day 12 (Intermediate)\", and \"Day 18 (Late)\".\n"
      ],
      "id": "c94e0ef2"
    },
    {
      "cell_type": "code",
      "metadata": {},
      "source": [
        "# Dropping the first row (which contains redundant information)\n",
        "df = df.drop(0).reset_index(drop=True)\n",
        "\n",
        "# Melting DataFrame for the three time points\n",
        "time_points = [\"Day 4 (Early)\", \"Day 12 (Intermediate)\", \"Day 18 (Late)\"]\n",
        "tidy_df = pd.DataFrame()\n",
        "for i, time_point in enumerate(time_points):\n",
        "    sub_df = df[[\"Unnamed: 0\", \"Unnamed: 1\", time_point, f\"Unnamed: {3 + i*3}\", f\"Unnamed: {4 + i*3}\"]].copy()\n",
        "    sub_df.columns = [\"Gene\", \"Description\", \"Etop.Score\", \"FDR\", \"Etoposide\"]\n",
        "    sub_df[\"Timepoint\"] = time_point\n",
        "    tidy_df = pd.concat([tidy_df, sub_df])\n",
        "\n",
        "# Reordering columns\n",
        "tidy_df = tidy_df[[\"Gene\", \"Description\", \"Timepoint\", \"Etop.Score\", \"FDR\", \"Etoposide\"]]\n",
        "\n",
        "# Resetting index\n",
        "tidy_df.reset_index(drop=True, inplace=True)\n",
        "\n",
        "# Sorting by the \"Gene\" column\n",
        "tidy_df = tidy_df.sort_values(by=\"Gene\").reset_index(drop=True)\n",
        "\n",
        "# Previewing the tidy DataFrame\n",
        "tidy_df.head()"
      ],
      "id": "5e635aca",
      "execution_count": null,
      "outputs": []
    },
    {
      "cell_type": "markdown",
      "metadata": {},
      "source": [
        "The data has been successfully transformed into tidy format, with the timepoints as a separate column, as requested.\n",
        "\n",
        "Would you like me to save this tidy DataFrame to a CSV file or perform any further actions on it?"
      ],
      "id": "16e2ce06"
    }
  ],
  "metadata": {
    "kernelspec": {
      "name": "python3",
      "language": "python",
      "display_name": "Python 3 (ipykernel)"
    }
  },
  "nbformat": 4,
  "nbformat_minor": 5
}