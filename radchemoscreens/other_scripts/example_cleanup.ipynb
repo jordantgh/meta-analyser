{
 "cells": [
  {
   "cell_type": "code",
   "execution_count": 2,
   "metadata": {},
   "outputs": [
    {
     "name": "stdout",
     "output_type": "stream",
     "text": [
      "/home/jtaylor/Projects/ifitm_cancer_assoc/radchemoscreens\n"
     ]
    }
   ],
   "source": [
    "import os\n",
    "import pandas as pd\n",
    "\n",
    "print(os.getcwd())"
   ]
  },
  {
   "cell_type": "code",
   "execution_count": 3,
   "metadata": {},
   "outputs": [
    {
     "data": {
      "text/plain": [
       "885"
      ]
     },
     "execution_count": 3,
     "metadata": {},
     "output_type": "execute_result"
    }
   ],
   "source": [
    "\"\"\"\n",
    "  |    | Unnamed: 0   | Unnamed: 1                                       | Day 4 (Early)     | Unnamed: 3   | Unnamed: 4   | Day 12 (Intermediate)   | Unnamed: 6   | Unnamed: 7   | Day 18 (Late)     | Unnamed: 9   | Unnamed: 10   |\n",
    "  |---:|:-------------|:-------------------------------------------------|:------------------|:-------------|:-------------|:------------------------|:-------------|:-------------|:------------------|:-------------|:--------------|\n",
    "  |  0 | Gene         | Description                                      | Etop.Score        | FDR          | Etoposide    | Etop.Score              | FDR          | Etoposide    | Etop.Score        | FDR          | Etoposide     |\n",
    "  |  1 | ABCC1        | ATP binding cassette subfamily C member 1        | -12.0873475832922 | 0.001238     | Resistance   | -12.237081477992        | 0.00099      | Resistance   | -7.08701315330034 | 0.001238     | Resistance    |\n",
    "  |  2 | NHEJ1        | non-homologous end joining factor 1              | -11.6082535558549 | 0.001238     | Resistance   | -7.67964596718233       | 0.00099      | Resistance   | nan               | nan          | nan           |\n",
    "  |  3 | RAD54L2      | DNA repair and recombination protein RAD54-like2 | -6.97947298772544 | 0.001238     | Resistance   | -9.39989874430861       | 0.00099      | Resistance   | -6.83445892327763 | 0.001238     | Resistance    |\n",
    "  |  4 | ZNF451       | zinc finger protein 451                          | -10.0497422718239 | 0.001238     | Resistance   | -4.77598518862714       | 0.05243      | Resistance   | -7.57935125458344 | 0.001238     | Resistance    |\n",
    "\"\"\"\n",
    "file_path = 'output_tables/nguyenGenomewideCRISPRCas92022_36111891_BLOODA_ADV-2022-007934-mmc1_Supplemental Table S1_t1.csv'\n",
    "df = pd.read_csv(file_path)\n",
    "\n",
    "# Dropping the first row (which contains redundant information)\n",
    "df = df.drop(0).reset_index(drop=True)\n",
    "\n",
    "# Melting DataFrame for the three time points\n",
    "time_points = [\"Day 4 (Early)\", \"Day 12 (Intermediate)\", \"Day 18 (Late)\"]\n",
    "tidy_df = pd.DataFrame()\n",
    "for i, time_point in enumerate(time_points):\n",
    "    sub_df = df[[\"Unnamed: 0\", \"Unnamed: 1\", time_point, f\"Unnamed: {3 + i*3}\", f\"Unnamed: {4 + i*3}\"]].copy()\n",
    "    sub_df.columns = [\"Gene\", \"Description\", \"Etop.Score\", \"FDR\", \"Etoposide\"]\n",
    "    sub_df[\"Timepoint\"] = time_point\n",
    "    tidy_df = pd.concat([tidy_df, sub_df])\n",
    "\n",
    "# Reordering columns\n",
    "tidy_df = tidy_df[[\"Gene\", \"Description\", \"Timepoint\", \"Etop.Score\", \"FDR\", \"Etoposide\"]]\n",
    "\n",
    "# Resetting index\n",
    "tidy_df.reset_index(drop=True, inplace=True)\n",
    "\n",
    "# Saving the tidy DataFrame (optional)\n",
    "tidy_df.to_csv('output_tables/tidy_data.csv', index=False)\n",
    "# Sorting by the \"Gene\" column\n",
    "tidy_df = tidy_df.sort_values(by=\"Gene\").reset_index(drop=True)\n",
    "# Previewing the tidy DataFrame\n",
    "tidy_df.head()\n",
    "len(tidy_df) "
   ]
  }
 ],
 "metadata": {
  "kernelspec": {
   "display_name": ".venv",
   "language": "python",
   "name": "python3"
  },
  "language_info": {
   "codemirror_mode": {
    "name": "ipython",
    "version": 3
   },
   "file_extension": ".py",
   "mimetype": "text/x-python",
   "name": "python",
   "nbconvert_exporter": "python",
   "pygments_lexer": "ipython3",
   "version": "3.11.1"
  },
  "orig_nbformat": 4
 },
 "nbformat": 4,
 "nbformat_minor": 2
}
